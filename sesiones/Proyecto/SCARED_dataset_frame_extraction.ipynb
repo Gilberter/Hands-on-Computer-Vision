{
  "nbformat": 4,
  "nbformat_minor": 0,
  "metadata": {
    "colab": {
      "provenance": []
    },
    "kernelspec": {
      "name": "python3",
      "display_name": "Python 3"
    },
    "language_info": {
      "name": "python"
    }
  },
  "cells": [
    {
      "cell_type": "code",
      "execution_count": 1,
      "metadata": {
        "id": "Mas2fGwAX4hl"
      },
      "outputs": [],
      "source": [
        "import cv2\n",
        "import os\n",
        "import sys\n",
        "\n",
        "def extract_and_split_frames(input_path, out_dir, img_ext='png'):\n",
        "    cap = cv2.VideoCapture(input_path)\n",
        "    if not cap.isOpened():\n",
        "        print(f\"Error: cannot open video '{input_path}'\")\n",
        "        return\n",
        "\n",
        "    width  = int(cap.get(cv2.CAP_PROP_FRAME_WIDTH))\n",
        "    height = int(cap.get(cv2.CAP_PROP_FRAME_HEIGHT))\n",
        "    half_h = height // 2\n",
        "\n",
        "    left_dir  = os.path.join(out_dir, 'left')\n",
        "    right_dir = os.path.join(out_dir, 'right')\n",
        "    os.makedirs(left_dir, exist_ok=True)\n",
        "    os.makedirs(right_dir, exist_ok=True)\n",
        "\n",
        "    frame_idx = 0\n",
        "    while True:\n",
        "        ret, frame = cap.read()\n",
        "        if not ret:\n",
        "            break\n",
        "\n",
        "        top    = frame[0:half_h,      0:width]\n",
        "        bottom = frame[half_h:height, 0:width]\n",
        "\n",
        "        left_path  = os.path.join(left_dir,  f\"frame_{frame_idx:05d}.{img_ext}\")\n",
        "        right_path = os.path.join(right_dir, f\"frame_{frame_idx:05d}.{img_ext}\")\n",
        "\n",
        "        cv2.imwrite(left_path,  top)\n",
        "        cv2.imwrite(right_path, bottom)\n",
        "\n",
        "        frame_idx += 1\n",
        "\n",
        "    cap.release()\n",
        "    print(f\"Done. Extracted {frame_idx} frames to '{left_dir}' and '{right_dir}'.\")"
      ]
    },
    {
      "cell_type": "code",
      "source": [
        "extract_and_split_frames(\"/content/rgb.mp4\", \"output_frames\", \"png\")"
      ],
      "metadata": {
        "colab": {
          "base_uri": "https://localhost:8080/"
        },
        "id": "y6yTjL6aZIwR",
        "outputId": "ee14469f-140d-4297-fdd4-3eb6e166f0c2"
      },
      "execution_count": 3,
      "outputs": [
        {
          "output_type": "stream",
          "name": "stdout",
          "text": [
            "Done. Extracted 197 frames to 'output_frames/left' and 'output_frames/right'.\n"
          ]
        }
      ]
    }
  ]
}