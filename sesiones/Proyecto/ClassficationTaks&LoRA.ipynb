{
  "nbformat": 4,
  "nbformat_minor": 0,
  "metadata": {
    "colab": {
      "provenance": [],
      "gpuType": "T4"
    },
    "kernelspec": {
      "name": "python3",
      "display_name": "Python 3"
    },
    "language_info": {
      "name": "python"
    },
    "accelerator": "GPU"
  },
  "cells": [
    {
      "cell_type": "code",
      "source": [
        "import torch\n",
        "import torchvision\n",
        "import torch.nn as nn\n",
        "import torch.optim as optim\n",
        "import torch.nn.functional as F\n",
        "from torch.utils.data import DataLoader\n",
        "from torch.utils.data import TensorDataset\n",
        "import numpy as np\n",
        "import matplotlib.pyplot as plt\n",
        "from tqdm import tqdm\n",
        "\n"
      ],
      "metadata": {
        "id": "w5C5fNLjRsYI"
      },
      "execution_count": null,
      "outputs": []
    },
    {
      "cell_type": "code",
      "source": [
        "device = torch.device('cuda:0' if torch.cuda.is_available() else 'cpu')\n",
        "\n",
        "transform = torchvision.transforms.Compose([\n",
        "    torchvision.transforms.ToTensor(),\n",
        "    torchvision.transforms.Normalize((0.5,), (0.5,))\n",
        "])\n",
        "\n",
        "trainset = torchvision.datasets.CIFAR10(root='./data', train=True, download=True, transform=transform)\n",
        "trainloader = torch.utils.data.DataLoader(trainset, batch_size=64, shuffle=True)\n",
        "\n",
        "testset = torchvision.datasets.CIFAR10(root='./data', train=False, download=True, transform=transform)\n",
        "testloader = torch.utils.data.DataLoader(testset, batch_size=128, shuffle=False)"
      ],
      "metadata": {
        "id": "HZf75FX8Rlw2",
        "colab": {
          "base_uri": "https://localhost:8080/"
        },
        "outputId": "1054e48a-ba64-4d9a-8313-10fcca18371a"
      },
      "execution_count": null,
      "outputs": [
        {
          "output_type": "stream",
          "name": "stderr",
          "text": [
            "100%|██████████| 170M/170M [00:02<00:00, 62.2MB/s]\n"
          ]
        }
      ]
    },
    {
      "cell_type": "code",
      "source": [
        "classes = ('plane', 'car', 'bird', 'cat', 'deer', 'dog', 'frog', 'horse', 'ship', 'truck')\n",
        "\n",
        "def imshow(img):\n",
        "  img = img / 2 + 0.5\n",
        "  npimg = img.numpy()\n",
        "  return np.transpose(npimg, (1, 2, 0)).astype(np.float32)\n",
        "\n",
        "#Train Loader iterable\n",
        "\n",
        "train_features_batch, train_labels_batch = next(iter(trainloader))\n",
        "train_features_batch.shape, train_labels_batch.shape\n",
        "\n",
        "print(f\"DataLoaders: {trainloader,testloader }\")\n",
        "print(f\"Length of train_dataloader: {len(trainloader)} batches of {trainloader.batch_size}...\")\n",
        "print(f\"Length of test_dataloader: {len(testloader)} batches of {testloader.batch_size}...\")\n",
        "\n"
      ],
      "metadata": {
        "colab": {
          "base_uri": "https://localhost:8080/"
        },
        "id": "D0131NPuSAKQ",
        "outputId": "58269bd3-ed8c-4a4c-f90b-d8e98af5e1d0"
      },
      "execution_count": null,
      "outputs": [
        {
          "output_type": "stream",
          "name": "stdout",
          "text": [
            "DataLoaders: (<torch.utils.data.dataloader.DataLoader object at 0x7cbddf345810>, <torch.utils.data.dataloader.DataLoader object at 0x7cbd82dec9d0>)\n",
            "Length of train_dataloader: 782 batches of 64...\n",
            "Length of test_dataloader: 79 batches of 128...\n"
          ]
        }
      ]
    },
    {
      "cell_type": "code",
      "source": [
        "class MLP_cifar10(nn.Module):\n",
        "  def __init__(self):\n",
        "    super().__init__()\n",
        "    self.fc1 = nn.Linear(32 * 32 * 3, 1536)  # Capa oculta 1 32*32 * (3 canales) pixeles = 3072\n",
        "    self.relu1 = nn.ReLU()\n",
        "    self.fc2 = nn.Linear(1536, 768)  # Capa oculta 2\n",
        "    self.relu2 = nn.ReLU()\n",
        "    self.fc3 = nn.Linear(768, 10)  # Capa de salida (10 clases)\n",
        "\n",
        "  def forward(self, x):\n",
        "\n",
        "    x = self.fc1(x)\n",
        "    x = self.relu1(x)\n",
        "    x = self.fc2(x)\n",
        "    x = self.relu2(x)\n",
        "    x = self.fc3(x)\n",
        "    return x"
      ],
      "metadata": {
        "id": "lnx5gwdUYorH"
      },
      "execution_count": null,
      "outputs": []
    },
    {
      "cell_type": "code",
      "source": [
        "device = torch.device('cuda:0' if torch.cuda.is_available() else 'cpu')\n",
        "\n",
        "model_cifar10 = MLP_cifar10().to(device)\n",
        "\n",
        "#Adam Optimizer (Adaptive learning rate)\n",
        "optimizer = optim.Adam(model_cifar10.parameters(), lr=0.001)\n",
        "\n",
        "#Loss Function\n",
        "loss_fn = nn.CrossEntropyLoss()\n",
        "\n",
        "\n",
        "parameters = sum(p.numel() for p in model_cifar10.parameters() if p.requires_grad)\n",
        "print(model_cifar10)\n",
        "print(\"Model trainable parameters: \", parameters)"
      ],
      "metadata": {
        "colab": {
          "base_uri": "https://localhost:8080/"
        },
        "id": "89_E7wBgY4TC",
        "outputId": "d7fe2b2a-7925-475b-b0c2-1cad5c787c3d"
      },
      "execution_count": null,
      "outputs": [
        {
          "output_type": "stream",
          "name": "stdout",
          "text": [
            "MLP_cifar10(\n",
            "  (fc1): Linear(in_features=3072, out_features=1536, bias=True)\n",
            "  (relu1): ReLU()\n",
            "  (fc2): Linear(in_features=1536, out_features=768, bias=True)\n",
            "  (relu2): ReLU()\n",
            "  (fc3): Linear(in_features=768, out_features=10, bias=True)\n",
            ")\n",
            "Model trainable parameters:  5908234\n"
          ]
        }
      ]
    },
    {
      "cell_type": "code",
      "source": [
        "train_features_batch.shape"
      ],
      "metadata": {
        "colab": {
          "base_uri": "https://localhost:8080/"
        },
        "id": "X1axMsiiagGz",
        "outputId": "9876ded1-eac5-41ec-cd93-b991cf7b16d3"
      },
      "execution_count": null,
      "outputs": [
        {
          "output_type": "execute_result",
          "data": {
            "text/plain": [
              "torch.Size([64, 3, 32, 32])"
            ]
          },
          "metadata": {},
          "execution_count": 7
        }
      ]
    },
    {
      "cell_type": "code",
      "source": [
        "import urllib.request\n",
        "\n",
        "url = \"https://github.com/Gilberter/Hands-on-Computer-Vision/raw/refs/heads/main/sesiones/Proyecto/model_cifar10_weights.pth\"\n",
        "nombre_archivo = 'model_cifar10_weights.pth'\n",
        "try:\n",
        "    urllib.request.urlretrieve(url, nombre_archivo)\n",
        "    print(f\"Archivo descargado correctamente como '{nombre_archivo}'\")\n",
        "except Exception as e:\n",
        "    print(f\"Error al descargar el archivo: {e}\")"
      ],
      "metadata": {
        "id": "cZaUQH3QNmV_",
        "outputId": "580adbba-43d4-402b-f9fa-ff9b9191c3a5",
        "colab": {
          "base_uri": "https://localhost:8080/"
        }
      },
      "execution_count": null,
      "outputs": [
        {
          "output_type": "stream",
          "name": "stdout",
          "text": [
            "Archivo descargado correctamente como 'model_cifar10_weights.pth'\n"
          ]
        }
      ]
    },
    {
      "cell_type": "code",
      "source": [
        "\n",
        "weights_path = 'model_cifar10_weights.pth'\n",
        "state_dict = torch.load(weights_path, map_location=device)\n",
        "model_cifar10.load_state_dict(state_dict)\n"
      ],
      "metadata": {
        "colab": {
          "base_uri": "https://localhost:8080/"
        },
        "id": "t4zSQqeWkY4v",
        "outputId": "c1aaaf15-7c53-4960-913d-da40382fc705"
      },
      "execution_count": null,
      "outputs": [
        {
          "output_type": "execute_result",
          "data": {
            "text/plain": [
              "<All keys matched successfully>"
            ]
          },
          "metadata": {},
          "execution_count": 14
        }
      ]
    },
    {
      "cell_type": "markdown",
      "source": [
        "# Entrenar modelo solo 5 epocas *NO EJECUTAR YA ESTA ENTRENADO*\n"
      ],
      "metadata": {
        "id": "MXKUk9qDOo6I"
      }
    },
    {
      "cell_type": "code",
      "source": [
        "# Set the model to training mode.\n",
        "model_cifar10.train()\n",
        "epochs = 5\n",
        "# For it epoch\n",
        "for epoch in range(epochs):\n",
        "    avg_loss_epoch = 0\n",
        "    batch_loss = 0\n",
        "    total_batches = 0\n",
        "\n",
        "    for batch_num, batch in enumerate(tqdm(trainloader, desc = f\"Epoch {epoch}:\")):\n",
        "        batch = tuple(b.to(device) for b in batch)\n",
        "        images, labels = batch\n",
        "        optimizer.zero_grad()\n",
        "\n",
        "        images = images.view(images.size(0), -1) # Hazle un reshape a las imagenes para coincidir con las dimensiones de entrada\n",
        "        outputs = model_cifar10(images) # Obten la salida de tu modelo\n",
        "        loss = loss_fn(outputs, labels) # Calcula la funcion de perdida en base a la salida de tu modelo\n",
        "        loss.backward()\n",
        "        optimizer.step()\n",
        "\n",
        "        total_batches += 1\n",
        "        batch_loss += loss.item()\n",
        "\n",
        "    avg_loss_epoch = batch_loss/total_batches\n",
        "    print ('Epoch [{}/{}], Average Loss for epoch {}: {:.4f}'\n",
        "                .format(epoch+1, epochs, epoch+1, avg_loss_epoch))"
      ],
      "metadata": {
        "colab": {
          "base_uri": "https://localhost:8080/"
        },
        "id": "T-hvK0FpaHDH",
        "outputId": "30e842d7-ae59-4b22-8ec7-456767640c09"
      },
      "execution_count": null,
      "outputs": [
        {
          "output_type": "stream",
          "name": "stderr",
          "text": [
            "Epoch 0:: 100%|██████████| 782/782 [01:07<00:00, 11.62it/s]\n"
          ]
        },
        {
          "output_type": "stream",
          "name": "stdout",
          "text": [
            "Epoch [1/5], Average Loss for epoch 1: 1.6588\n"
          ]
        },
        {
          "output_type": "stream",
          "name": "stderr",
          "text": [
            "Epoch 1:: 100%|██████████| 782/782 [01:13<00:00, 10.66it/s]\n"
          ]
        },
        {
          "output_type": "stream",
          "name": "stdout",
          "text": [
            "Epoch [2/5], Average Loss for epoch 2: 1.4601\n"
          ]
        },
        {
          "output_type": "stream",
          "name": "stderr",
          "text": [
            "Epoch 2:: 100%|██████████| 782/782 [01:13<00:00, 10.66it/s]\n"
          ]
        },
        {
          "output_type": "stream",
          "name": "stdout",
          "text": [
            "Epoch [3/5], Average Loss for epoch 3: 1.3527\n"
          ]
        },
        {
          "output_type": "stream",
          "name": "stderr",
          "text": [
            "Epoch 3:: 100%|██████████| 782/782 [01:13<00:00, 10.70it/s]\n"
          ]
        },
        {
          "output_type": "stream",
          "name": "stdout",
          "text": [
            "Epoch [4/5], Average Loss for epoch 4: 1.2549\n"
          ]
        },
        {
          "output_type": "stream",
          "name": "stderr",
          "text": [
            "Epoch 4:: 100%|██████████| 782/782 [01:15<00:00, 10.31it/s]"
          ]
        },
        {
          "output_type": "stream",
          "name": "stdout",
          "text": [
            "Epoch [5/5], Average Loss for epoch 5: 1.1732\n"
          ]
        },
        {
          "output_type": "stream",
          "name": "stderr",
          "text": [
            "\n"
          ]
        }
      ]
    },
    {
      "cell_type": "code",
      "source": [
        "# Save the trained model weights\n",
        "torch.save(model_cifar10.state_dict(), 'model_cifar10_weights.pth')"
      ],
      "metadata": {
        "id": "WStWD5JsbCJl"
      },
      "execution_count": null,
      "outputs": []
    },
    {
      "cell_type": "markdown",
      "source": [
        "# Ejecutar funciones"
      ],
      "metadata": {
        "id": "KtGyrRvtQNw8"
      }
    },
    {
      "cell_type": "code",
      "source": [
        "# Load these weights back into a model later"
      ],
      "metadata": {
        "id": "GTlSijhrbMKh"
      },
      "execution_count": 16,
      "outputs": []
    },
    {
      "cell_type": "code",
      "source": [
        "# Evaluate The Model\n",
        "def accuracy_fn(y_true, y_pred):\n",
        "  correct = torch.eq(y_true, y_pred).sum().item()\n",
        "  acc = (correct / len(y_pred)) * 100\n",
        "  return acc\n",
        "\n",
        "imagetest, labeltest = next(iter(testloader))\n",
        "print(imagetest.shape)\n",
        "print(labeltest.shape)"
      ],
      "metadata": {
        "colab": {
          "base_uri": "https://localhost:8080/"
        },
        "id": "kc7h_DC6eY0s",
        "outputId": "db2084b1-e024-456e-8725-1c350f3e0fa4"
      },
      "execution_count": 17,
      "outputs": [
        {
          "output_type": "stream",
          "name": "stdout",
          "text": [
            "torch.Size([128, 3, 32, 32])\n",
            "torch.Size([128])\n"
          ]
        }
      ]
    },
    {
      "cell_type": "code",
      "source": [
        "def evaluate_model(model, data_loader):\n",
        "    loss,acc = 0,0   # Loss and accuracy\n",
        "    model.eval()     # Evaluation mode\n",
        "    with torch.no_grad(): # No changes in gradient calculation\n",
        "      for x_test, y_test in data_loader:  # Iterates through each batch of data\n",
        "        x_test = x_test.to(device)\n",
        "        y_test = y_test.to(device)\n",
        "        x_test = x_test.view(x_test.size(0), -1) #Single vector no dimensionality\n",
        "\n",
        "         # get logits of all the classes\n",
        "        if (model.__class__.__name__ == \"MLP_cifar10\"):\n",
        "          y_logits = model(x_test)\n",
        "\n",
        "        else:\n",
        "          y_logits = model.base_model.forward(x_test)\n",
        "        y_pred = torch.argmax(y_logits, dim=1) #Get predicted class with the hightes logit value\n",
        "\n",
        "        loss += loss_fn(y_logits, y_test) #Calculate loss\n",
        "        acc += accuracy_fn(y_test, y_pred) #Calculate accuracy\n",
        "\n",
        "    loss /= len(data_loader)\n",
        "    acc /= len(data_loader)\n",
        "    return {\"model_name\": model.__class__.__name__,\n",
        "            \"model_loss\": loss.item(),\n",
        "            \"model_acc\": acc}"
      ],
      "metadata": {
        "id": "rUddPn69euqA"
      },
      "execution_count": 18,
      "outputs": []
    },
    {
      "cell_type": "code",
      "source": [
        "# This function only accepts 9 images\n",
        "\n",
        "def model_predictions(model: torch.nn.Module,\n",
        "                      data: list\n",
        "                      ):\n",
        "  pred_prob = []\n",
        "  model.eval()\n",
        "  with torch.no_grad():\n",
        "    data = data.to(device)\n",
        "    x = data.view(data.size(0), -1)  # Get a [9,3072] #data,size(0) -> gets the number of images in th batch\n",
        "    y_logits = model(x)        # Get the logit predictions of the model\n",
        "\n",
        "    pred_prob = torch.softmax(y_logits, dim=1)\n",
        "\n",
        "  return pred_prob"
      ],
      "metadata": {
        "id": "ene9USI2hVdH"
      },
      "execution_count": 19,
      "outputs": []
    },
    {
      "cell_type": "code",
      "source": [
        "import random\n",
        "test_samples = []\n",
        "test_labels = []\n",
        "for sample, label in random.sample(list(testset), k=9):\n",
        "  test_samples.append(sample)\n",
        "  test_labels.append(label)\n",
        "test_samples[0].shape\n",
        "#Cannot work with this set i need [\"amount of images\",\"channels\",\"width\",\"height\"]"
      ],
      "metadata": {
        "colab": {
          "base_uri": "https://localhost:8080/"
        },
        "id": "wEOgcfJoj-Tl",
        "outputId": "574bcd76-8da1-43e1-d325-3112a909f12b"
      },
      "execution_count": 20,
      "outputs": [
        {
          "output_type": "execute_result",
          "data": {
            "text/plain": [
              "torch.Size([3, 32, 32])"
            ]
          },
          "metadata": {},
          "execution_count": 20
        }
      ]
    },
    {
      "cell_type": "code",
      "source": [
        "test_samples = torch.stack(test_samples)\n",
        "test_samples.shape"
      ],
      "metadata": {
        "colab": {
          "base_uri": "https://localhost:8080/"
        },
        "id": "n5M07u68kKSV",
        "outputId": "259ce3e4-8f04-40a0-dcf7-0b9a18bf29bb"
      },
      "execution_count": 21,
      "outputs": [
        {
          "output_type": "execute_result",
          "data": {
            "text/plain": [
              "torch.Size([9, 3, 32, 32])"
            ]
          },
          "metadata": {},
          "execution_count": 21
        }
      ]
    },
    {
      "cell_type": "code",
      "source": [
        "pred_probs = model_predictions(model=model_cifar10,\n",
        "                              data=test_samples,\n",
        "                              )"
      ],
      "metadata": {
        "id": "HDdQc85zkwBP"
      },
      "execution_count": 22,
      "outputs": []
    },
    {
      "cell_type": "code",
      "source": [
        "print(pred_probs.shape)\n",
        "# 9 uimages 10 labels\n",
        "pred_class = torch.argmax(pred_probs, dim=1)\n",
        "print(pred_class) # Preticted label for each image\n",
        "\n",
        "# Labels order in the data set\n",
        "classes = ('plane', 'car', 'bird', 'cat', 'deer', 'dog', 'frog', 'horse', 'ship', 'truck')\n"
      ],
      "metadata": {
        "colab": {
          "base_uri": "https://localhost:8080/"
        },
        "id": "P2Yfwnisk_Uk",
        "outputId": "3c095dc4-d6ea-41c4-f720-872606bf0a1a"
      },
      "execution_count": 23,
      "outputs": [
        {
          "output_type": "stream",
          "name": "stdout",
          "text": [
            "torch.Size([9, 10])\n",
            "tensor([8, 0, 5, 9, 5, 8, 7, 5, 9])\n"
          ]
        }
      ]
    },
    {
      "cell_type": "code",
      "source": [
        "# Random bach of images\n",
        "import random\n",
        "random.seed(1)\n",
        "test_samples = []\n",
        "test_labels = []\n",
        "count_image = 0;\n",
        "for sample, label in random.sample(list(testset), k=15):\n",
        "  test_samples.append(sample)\n",
        "  test_labels.append(label)\n",
        "\n",
        "test_samples = torch.stack(test_samples)\n",
        "\n",
        "pred_probs = model_predictions(model=model_cifar10,\n",
        "                              data=test_samples,\n",
        "                              )\n",
        "pred_class = torch.argmax(pred_probs, dim=1)\n",
        "labels = test_labels"
      ],
      "metadata": {
        "id": "RpqNbiEJny_V"
      },
      "execution_count": 24,
      "outputs": []
    },
    {
      "cell_type": "code",
      "source": [
        "# NO modifiques esta celda ♥\n",
        "plt.figure(figsize=(9,9))\n",
        "nrows = 5\n",
        "ncols = 3\n",
        "for i, sample in enumerate(test_samples):\n",
        "  plt.subplot(nrows, ncols, i+1)\n",
        "\n",
        "  #plot the target image\n",
        "  plt.imshow(imshow(test_samples[i]))\n",
        "\n",
        "  #find the prediction label\n",
        "  pred_label = classes[pred_class[i]]\n",
        "\n",
        "  #get the truth label\n",
        "  truth_label = classes[labels[i]]\n",
        "\n",
        "  #create a tittle for the plot\n",
        "  tittle_text = f\"pred: {pred_label} | Truth: {truth_label}\"\n",
        "  if pred_label == truth_label:\n",
        "    plt.title(tittle_text, fontsize=10,c=\"g\")\n",
        "  else:\n",
        "    plt.title(tittle_text, fontsize=10,c=\"r\")\n",
        "  plt.axis(False)"
      ],
      "metadata": {
        "colab": {
          "base_uri": "https://localhost:8080/",
          "height": 0
        },
        "id": "ZW1DDMi0nsDO",
        "outputId": "9c53e014-ee3a-4cdd-f21c-f87465c810db"
      },
      "execution_count": 25,
      "outputs": [
        {
          "output_type": "display_data",
          "data": {
            "text/plain": [
              "<Figure size 900x900 with 15 Axes>"
            ],
            "image/png": "[encoded data removed]"
          },
          "metadata": {}
        }
      ]
    },
    {
      "cell_type": "markdown",
      "source": [
        "# PEFT y LoRA"
      ],
      "metadata": {
        "id": "7xS-VzwaQl41"
      }
    },
    {
      "cell_type": "code",
      "source": [
        "%%capture\n",
        "!pip install peft\n"
      ],
      "metadata": {
        "id": "nrJ7q2pqonaR"
      },
      "execution_count": 26,
      "outputs": []
    },
    {
      "cell_type": "code",
      "source": [
        "from peft import LoraConfig, get_peft_model, TaskType\n",
        "from peft.tuners.lora import LoraModel\n"
      ],
      "metadata": {
        "id": "R1O21k2inoaQ"
      },
      "execution_count": 27,
      "outputs": []
    },
    {
      "cell_type": "code",
      "source": [
        "# LoRA configuration\n",
        "# Create LoRA config\n",
        "lora_config = LoraConfig(\n",
        "    r=8,\n",
        "    lora_alpha=32,\n",
        "    target_modules=[\"fc1\", \"fc2\"],  # Choose the layers you want to adapt\n",
        "    lora_dropout=0.1,\n",
        "    bias=\"none\",\n",
        "    task_type=TaskType.FEATURE_EXTRACTION  # MLP isn't a Transformer/CAUSAL_LM\n",
        ")\n",
        "\n",
        "# Load base model\n",
        "model = MLP_cifar10()\n",
        "model.load_state_dict(torch.load(\"model_cifar10_weights.pth\"))\n",
        "\n",
        "# Apply LoRA\n",
        "model = get_peft_model(model, lora_config)\n",
        "model.print_trainable_parameters()\n"
      ],
      "metadata": {
        "colab": {
          "base_uri": "https://localhost:8080/"
        },
        "id": "I0k_vBrJtplz",
        "outputId": "6b4ee710-2353-4654-84dc-531319aefd59"
      },
      "execution_count": 29,
      "outputs": [
        {
          "output_type": "stream",
          "name": "stdout",
          "text": [
            "trainable params: 55,296 || all params: 5,963,530 || trainable%: 0.9272\n"
          ]
        }
      ]
    },
    {
      "cell_type": "code",
      "source": [
        "# TRAINING PEFT MODEL PARAMETERES IN THE DATA CATS VS DOGS\n",
        "from torch.utils.data import TensorDataset, random_split, DataLoader\n",
        "\n",
        "data_dogs_vs_cats = []\n",
        "data_labels_dogs_vs_cats = []\n",
        "dogs_image = 0;\n",
        "cats_image = 0;\n",
        "for sample, label in random.sample(list(testset), k=1000):\n",
        "  if cats_image < 500 and label == 3:\n",
        "    data_dogs_vs_cats.append(sample)\n",
        "    data_labels_dogs_vs_cats.append(label)\n",
        "    cats_image += 1\n",
        "  elif dogs_image < 500 and label == 5:\n",
        "    data_dogs_vs_cats.append(sample)\n",
        "    data_labels_dogs_vs_cats.append(label)\n",
        "    dogs_image += 1\n",
        "\n",
        "data_dogs_vs_cats = torch.stack(data_dogs_vs_cats)\n",
        "data_labels_dogs_vs_cats = torch.tensor(data_labels_dogs_vs_cats)\n",
        "\n",
        "full_dataset = TensorDataset(data_dogs_vs_cats, data_labels_dogs_vs_cats)\n",
        "total_size = len(full_dataset)\n",
        "train_size = int(total_size * 0.8) # Example: 80% for training\n",
        "test_size = total_size - train_size\n",
        "\n",
        "#Data set tensor\n",
        "train_dogs_vs_cats, test_dogs_vs_cats = random_split(full_dataset, [train_size, test_size])\n",
        "\n",
        "#Data set Loader\n",
        "train_dogs_vs_cats_loader = DataLoader(train_dogs_vs_cats, batch_size=10, shuffle=True)\n",
        "test_dogs_vs_cats_loader = DataLoader(test_dogs_vs_cats, batch_size=10, shuffle=False)\n",
        "\n",
        "# Train loader iterable batches\n",
        "train_dogs_vs_cats_batch, train_dogs_vs_cats_labels_batch = next(iter(train_dogs_vs_cats_loader))\n",
        "\n",
        "\n",
        "print(f\"Length of train_dataloader: {len(train_dogs_vs_cats_loader)} batches of {train_dogs_vs_cats_loader.batch_size}...\")\n",
        "print(f\"Length of test_dataloader: {len(train_dogs_vs_cats_loader)} batches of {train_dogs_vs_cats_loader.batch_size}...\")\n"
      ],
      "metadata": {
        "id": "t6V9d0xmxviC",
        "colab": {
          "base_uri": "https://localhost:8080/"
        },
        "outputId": "4e53ab76-56bb-4af3-e359-492997a4849b"
      },
      "execution_count": 30,
      "outputs": [
        {
          "output_type": "stream",
          "name": "stdout",
          "text": [
            "Length of train_dataloader: 18 batches of 10...\n",
            "Length of test_dataloader: 18 batches of 10...\n"
          ]
        }
      ]
    },
    {
      "cell_type": "code",
      "source": [
        "img = train_dogs_vs_cats_batch[9]\n",
        "img.shape\n",
        "plt.imshow(imshow(img))\n",
        "plt.title(classes[train_dogs_vs_cats_labels_batch[9]])"
      ],
      "metadata": {
        "colab": {
          "base_uri": "https://localhost:8080/",
          "height": 469
        },
        "id": "XSAmAZQEcMmG",
        "outputId": "70778778-3c11-4c12-f298-115b06917f85"
      },
      "execution_count": 31,
      "outputs": [
        {
          "output_type": "execute_result",
          "data": {
            "text/plain": [
              "Text(0.5, 1.0, 'cat')"
            ]
          },
          "metadata": {},
          "execution_count": 31
        },
        {
          "output_type": "display_data",
          "data": {
            "text/plain": [
              "<Figure size 640x480 with 1 Axes>"
            ],
            "image/png": "[encoded data removed]"
          },
          "metadata": {}
        }
      ]
    },
    {
      "cell_type": "code",
      "source": [
        "# Set the model to training mode.\n",
        "device = torch.device(\"cuda\" if torch.cuda.is_available() else \"cpu\")\n",
        "model.to(device)\n",
        "\n",
        "optimizer = optim.Adam(model.parameters(), lr=1e-3)\n",
        "model.train()\n",
        "epochs = 20\n",
        "# For it epoch\n",
        "for epoch in range(epochs):\n",
        "    avg_loss_epoch = 0\n",
        "    batch_loss = 0\n",
        "    total_batches = 0\n",
        "\n",
        "    for batch_num, batch in enumerate(tqdm(train_dogs_vs_cats_loader, desc = f\"Epoch {epoch}:\")):\n",
        "        batch = tuple(b.to(device) for b in batch)\n",
        "        images, labels = batch\n",
        "        optimizer.zero_grad()\n",
        "\n",
        "        images = images.view(images.size(0), -1) # Hazle un reshape a las imagenes para coincidir con las dimensiones de entrada\n",
        "        outputs = model.base_model.forward(images) # Obten la salida de tu modelo\n",
        "        loss = loss_fn(outputs, labels) # Calcula la funcion de perdida en base a la salida de tu modelo\n",
        "        loss.backward()\n",
        "        optimizer.step()\n",
        "\n",
        "        total_batches += 1\n",
        "        batch_loss += loss.item()\n",
        "\n",
        "    avg_loss_epoch = batch_loss/total_batches\n",
        "    print ('Epoch [{}/{}], Average Loss for epoch {}: {:.4f}'\n",
        "                .format(epoch+1, epochs, epoch+1, avg_loss_epoch))"
      ],
      "metadata": {
        "colab": {
          "base_uri": "https://localhost:8080/"
        },
        "id": "qWo8mhcfuwbi",
        "outputId": "04c6bad2-8f60-4079-fc65-f9591a2b0cc8"
      },
      "execution_count": 32,
      "outputs": [
        {
          "output_type": "stream",
          "name": "stderr",
          "text": [
            "Epoch 0:: 100%|██████████| 18/18 [00:00<00:00, 62.32it/s]\n"
          ]
        },
        {
          "output_type": "stream",
          "name": "stdout",
          "text": [
            "Epoch [1/20], Average Loss for epoch 1: 1.4056\n"
          ]
        },
        {
          "output_type": "stream",
          "name": "stderr",
          "text": [
            "Epoch 1:: 100%|██████████| 18/18 [00:00<00:00, 93.86it/s]\n"
          ]
        },
        {
          "output_type": "stream",
          "name": "stdout",
          "text": [
            "Epoch [2/20], Average Loss for epoch 2: 0.8064\n"
          ]
        },
        {
          "output_type": "stream",
          "name": "stderr",
          "text": [
            "Epoch 2:: 100%|██████████| 18/18 [00:00<00:00, 99.36it/s]\n"
          ]
        },
        {
          "output_type": "stream",
          "name": "stdout",
          "text": [
            "Epoch [3/20], Average Loss for epoch 3: 0.5791\n"
          ]
        },
        {
          "output_type": "stream",
          "name": "stderr",
          "text": [
            "Epoch 3:: 100%|██████████| 18/18 [00:00<00:00, 108.44it/s]\n"
          ]
        },
        {
          "output_type": "stream",
          "name": "stdout",
          "text": [
            "Epoch [4/20], Average Loss for epoch 4: 0.4897\n"
          ]
        },
        {
          "output_type": "stream",
          "name": "stderr",
          "text": [
            "Epoch 4:: 100%|██████████| 18/18 [00:00<00:00, 90.80it/s]\n"
          ]
        },
        {
          "output_type": "stream",
          "name": "stdout",
          "text": [
            "Epoch [5/20], Average Loss for epoch 5: 0.4108\n"
          ]
        },
        {
          "output_type": "stream",
          "name": "stderr",
          "text": [
            "Epoch 5:: 100%|██████████| 18/18 [00:00<00:00, 69.65it/s]\n"
          ]
        },
        {
          "output_type": "stream",
          "name": "stdout",
          "text": [
            "Epoch [6/20], Average Loss for epoch 6: 0.3830\n"
          ]
        },
        {
          "output_type": "stream",
          "name": "stderr",
          "text": [
            "Epoch 6:: 100%|██████████| 18/18 [00:00<00:00, 68.75it/s]\n"
          ]
        },
        {
          "output_type": "stream",
          "name": "stdout",
          "text": [
            "Epoch [7/20], Average Loss for epoch 7: 0.3314\n"
          ]
        },
        {
          "output_type": "stream",
          "name": "stderr",
          "text": [
            "Epoch 7:: 100%|██████████| 18/18 [00:00<00:00, 77.85it/s]\n"
          ]
        },
        {
          "output_type": "stream",
          "name": "stdout",
          "text": [
            "Epoch [8/20], Average Loss for epoch 8: 0.3120\n"
          ]
        },
        {
          "output_type": "stream",
          "name": "stderr",
          "text": [
            "Epoch 8:: 100%|██████████| 18/18 [00:00<00:00, 77.46it/s]\n"
          ]
        },
        {
          "output_type": "stream",
          "name": "stdout",
          "text": [
            "Epoch [9/20], Average Loss for epoch 9: 0.2627\n"
          ]
        },
        {
          "output_type": "stream",
          "name": "stderr",
          "text": [
            "Epoch 9:: 100%|██████████| 18/18 [00:00<00:00, 73.95it/s]\n"
          ]
        },
        {
          "output_type": "stream",
          "name": "stdout",
          "text": [
            "Epoch [10/20], Average Loss for epoch 10: 0.2241\n"
          ]
        },
        {
          "output_type": "stream",
          "name": "stderr",
          "text": [
            "Epoch 10:: 100%|██████████| 18/18 [00:00<00:00, 72.57it/s]\n"
          ]
        },
        {
          "output_type": "stream",
          "name": "stdout",
          "text": [
            "Epoch [11/20], Average Loss for epoch 11: 0.1775\n"
          ]
        },
        {
          "output_type": "stream",
          "name": "stderr",
          "text": [
            "Epoch 11:: 100%|██████████| 18/18 [00:00<00:00, 75.96it/s]\n"
          ]
        },
        {
          "output_type": "stream",
          "name": "stdout",
          "text": [
            "Epoch [12/20], Average Loss for epoch 12: 0.1843\n"
          ]
        },
        {
          "output_type": "stream",
          "name": "stderr",
          "text": [
            "Epoch 12:: 100%|██████████| 18/18 [00:00<00:00, 72.84it/s]\n"
          ]
        },
        {
          "output_type": "stream",
          "name": "stdout",
          "text": [
            "Epoch [13/20], Average Loss for epoch 13: 0.2231\n"
          ]
        },
        {
          "output_type": "stream",
          "name": "stderr",
          "text": [
            "Epoch 13:: 100%|██████████| 18/18 [00:00<00:00, 68.29it/s]\n"
          ]
        },
        {
          "output_type": "stream",
          "name": "stdout",
          "text": [
            "Epoch [14/20], Average Loss for epoch 14: 0.2262\n"
          ]
        },
        {
          "output_type": "stream",
          "name": "stderr",
          "text": [
            "Epoch 14:: 100%|██████████| 18/18 [00:00<00:00, 67.98it/s]\n"
          ]
        },
        {
          "output_type": "stream",
          "name": "stdout",
          "text": [
            "Epoch [15/20], Average Loss for epoch 15: 0.1585\n"
          ]
        },
        {
          "output_type": "stream",
          "name": "stderr",
          "text": [
            "Epoch 15:: 100%|██████████| 18/18 [00:00<00:00, 68.31it/s]\n"
          ]
        },
        {
          "output_type": "stream",
          "name": "stdout",
          "text": [
            "Epoch [16/20], Average Loss for epoch 16: 0.1371\n"
          ]
        },
        {
          "output_type": "stream",
          "name": "stderr",
          "text": [
            "Epoch 16:: 100%|██████████| 18/18 [00:00<00:00, 75.15it/s]\n"
          ]
        },
        {
          "output_type": "stream",
          "name": "stdout",
          "text": [
            "Epoch [17/20], Average Loss for epoch 17: 0.1265\n"
          ]
        },
        {
          "output_type": "stream",
          "name": "stderr",
          "text": [
            "Epoch 17:: 100%|██████████| 18/18 [00:00<00:00, 103.08it/s]\n"
          ]
        },
        {
          "output_type": "stream",
          "name": "stdout",
          "text": [
            "Epoch [18/20], Average Loss for epoch 18: 0.0896\n"
          ]
        },
        {
          "output_type": "stream",
          "name": "stderr",
          "text": [
            "Epoch 18:: 100%|██████████| 18/18 [00:00<00:00, 102.97it/s]\n"
          ]
        },
        {
          "output_type": "stream",
          "name": "stdout",
          "text": [
            "Epoch [19/20], Average Loss for epoch 19: 0.0740\n"
          ]
        },
        {
          "output_type": "stream",
          "name": "stderr",
          "text": [
            "Epoch 19:: 100%|██████████| 18/18 [00:00<00:00, 104.77it/s]"
          ]
        },
        {
          "output_type": "stream",
          "name": "stdout",
          "text": [
            "Epoch [20/20], Average Loss for epoch 20: 0.0591\n"
          ]
        },
        {
          "output_type": "stream",
          "name": "stderr",
          "text": [
            "\n"
          ]
        }
      ]
    },
    {
      "cell_type": "code",
      "source": [
        "from peft import PeftModel\n",
        "\n",
        "# Save just the LoRA adapter\n",
        "model.save_pretrained(\"mlp_lora_cats_dogs\")"
      ],
      "metadata": {
        "id": "MJocQGp3wCy8"
      },
      "execution_count": 33,
      "outputs": []
    },
    {
      "cell_type": "code",
      "source": [
        "from peft import PeftModel, PeftConfig\n",
        "\n",
        "# Load original base model\n",
        "base_model = MLP_cifar10()\n",
        "base_model.load_state_dict(torch.load(\"model_cifar10_weights.pth\"))\n",
        "\n",
        "# Load LoRA adapter\n",
        "peft_model = PeftModel.from_pretrained(base_model, \"mlp_lora_cats_dogs\")\n",
        "peft_model.eval()"
      ],
      "metadata": {
        "id": "7o9oGTsKwS-d",
        "colab": {
          "base_uri": "https://localhost:8080/"
        },
        "outputId": "d0ed8e24-7495-4ed9-d5ef-d8232bee1272"
      },
      "execution_count": 35,
      "outputs": [
        {
          "output_type": "execute_result",
          "data": {
            "text/plain": [
              "PeftModelForFeatureExtraction(\n",
              "  (base_model): LoraModel(\n",
              "    (model): MLP_cifar10(\n",
              "      (fc1): lora.Linear(\n",
              "        (base_layer): Linear(in_features=3072, out_features=1536, bias=True)\n",
              "        (lora_dropout): ModuleDict(\n",
              "          (default): Dropout(p=0.1, inplace=False)\n",
              "        )\n",
              "        (lora_A): ModuleDict(\n",
              "          (default): Linear(in_features=3072, out_features=8, bias=False)\n",
              "        )\n",
              "        (lora_B): ModuleDict(\n",
              "          (default): Linear(in_features=8, out_features=1536, bias=False)\n",
              "        )\n",
              "        (lora_embedding_A): ParameterDict()\n",
              "        (lora_embedding_B): ParameterDict()\n",
              "        (lora_magnitude_vector): ModuleDict()\n",
              "      )\n",
              "      (relu1): ReLU()\n",
              "      (fc2): lora.Linear(\n",
              "        (base_layer): Linear(in_features=1536, out_features=768, bias=True)\n",
              "        (lora_dropout): ModuleDict(\n",
              "          (default): Dropout(p=0.1, inplace=False)\n",
              "        )\n",
              "        (lora_A): ModuleDict(\n",
              "          (default): Linear(in_features=1536, out_features=8, bias=False)\n",
              "        )\n",
              "        (lora_B): ModuleDict(\n",
              "          (default): Linear(in_features=8, out_features=768, bias=False)\n",
              "        )\n",
              "        (lora_embedding_A): ParameterDict()\n",
              "        (lora_embedding_B): ParameterDict()\n",
              "        (lora_magnitude_vector): ModuleDict()\n",
              "      )\n",
              "      (relu2): ReLU()\n",
              "      (fc3): Linear(in_features=768, out_features=10, bias=True)\n",
              "    )\n",
              "  )\n",
              ")"
            ]
          },
          "metadata": {},
          "execution_count": 35
        }
      ]
    },
    {
      "cell_type": "code",
      "source": [
        "model_results = evaluate_model(peft_model, test_dogs_vs_cats_loader)\n",
        "print(model_results)\n",
        "model_results = evaluate_model(peft_model, testloader)\n",
        "print(model_results)\n"
      ],
      "metadata": {
        "colab": {
          "base_uri": "https://localhost:8080/"
        },
        "id": "m-1yoDKAxTMa",
        "outputId": "d6addb8d-b6c2-4f2f-8a7a-47a6a5cd7e4a"
      },
      "execution_count": 36,
      "outputs": [
        {
          "output_type": "stream",
          "name": "stdout",
          "text": [
            "{'model_name': 'PeftModelForFeatureExtraction', 'model_loss': 1.183201551437378, 'model_acc': 59.33333333333333}\n",
            "{'model_name': 'PeftModelForFeatureExtraction', 'model_loss': 17.42734146118164, 'model_acc': 13.103243670886076}\n"
          ]
        }
      ]
    },
    {
      "cell_type": "code",
      "source": [
        "model_results = evaluate_model(model_cifar10, testloader)\n",
        "print(model_results)\n",
        "model_results = evaluate_model(model_cifar10, test_dogs_vs_cats_loader)\n",
        "print(model_results)"
      ],
      "metadata": {
        "colab": {
          "base_uri": "https://localhost:8080/"
        },
        "id": "XH-xtPXQxf9J",
        "outputId": "d5b4a7c2-abad-4657-b8c1-773f08eda801"
      },
      "execution_count": 37,
      "outputs": [
        {
          "output_type": "stream",
          "name": "stdout",
          "text": [
            "{'model_name': 'MLP_cifar10', 'model_loss': 1.4354486465454102, 'model_acc': 51.157041139240505}\n",
            "{'model_name': 'MLP_cifar10', 'model_loss': 1.7463010549545288, 'model_acc': 36.666666666666664}\n"
          ]
        }
      ]
    },
    {
      "cell_type": "markdown",
      "source": [
        "Conclusion\n",
        "\n",
        "Usando el modelo ya entrenado y usando el nuevo modelo peft_model gracais a la libreria PEFT y el modelo LoRA los nuevos parametros aprendidos para clasificar de mejor manera a perros y gatos aumento su accuraccy a 60%.\n",
        "\n",
        "En cambio el modelo MLP_cifar10 clasifica con un acuraccy de 37%."
      ],
      "metadata": {
        "id": "INLm_0C7VaZw"
      }
    }
  ]
}